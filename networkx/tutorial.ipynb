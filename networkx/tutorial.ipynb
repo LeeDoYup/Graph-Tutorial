{
 "cells": [
  {
   "cell_type": "markdown",
   "metadata": {},
   "source": [
    "# Creating a graph\n",
    "제일 먼저, networkx 모듈을 임포트해줍니다.  \n",
    "그 후, Graph()를 생성합니다."
   ]
  },
  {
   "cell_type": "code",
   "execution_count": 1,
   "metadata": {},
   "outputs": [],
   "source": [
    "import networkx as nx\n",
    "G = nx.Graph()"
   ]
  },
  {
   "cell_type": "markdown",
   "metadata": {},
   "source": [
    "`Graph` 는 nodes(vertices)와 nodes들 사이의 관계를 포함하고 있는 집합입니다.  \n",
    "NetworkX에서 node들은 어떤 hashable object (text string, image, XML, another graph, ..., etc.) 가 될 수 있습니다.  \n",
    "(Note: None object는 노드가 될 수 없습니다.)\n",
    "\n",
    "\n",
    "# Nodes\n",
    "Graph G는 다양한 방법으로 구성, 증가시킬 수 있습니다.  \n",
    "NetworkX는 다양한 graph generator function들을 포함하고 있습니다."
   ]
  },
  {
   "cell_type": "code",
   "execution_count": 2,
   "metadata": {},
   "outputs": [],
   "source": [
    "G.add_node(1) #add one node\n",
    "G.add_nodes_from([2,3]) #add a list of nodes\n",
    "\n",
    "\n",
    "#or add any nbunch of nodes. An nbunch is any iterable contrainer (list, set, graph file, etc....)\n",
    "H=nx.path_graph(10) #generate a graph \n",
    "G.add_nodes_from(H) #add nodes in H as nodes of graph G\n",
    "\n",
    "G.add_node(H) #add 'graph H' as 'a node' of G"
   ]
  },
  {
   "cell_type": "markdown",
   "metadata": {},
   "source": [
    "`G.add_nodes_from(H)` 는 H 그래프 안에 있는 노드들을 G 그래프에 추가한 것입니다.  \n",
    "`G.add_node(H)`는 H라는 그래프 자체를 G의 노드로 추가한 것입니다. 노드는 다양한 hashble object라면 모두 추가 가능합니다."
   ]
  },
  {
   "cell_type": "markdown",
   "metadata": {},
   "source": [
    "# Edges\n",
    "Graph G에 edge를 추가하는 대표적인 방법은 아래와 같습니다."
   ]
  },
  {
   "cell_type": "code",
   "execution_count": 3,
   "metadata": {},
   "outputs": [],
   "source": [
    "G.add_edge(1,2) #add an edge between node 1 & node 2\n",
    "e = (2,3)\n",
    "G.add_edge(*e) #unpack edge tuple* (add an edge btw node 2, 3)\n",
    "\n",
    "#by adding a list of edges\n",
    "G.add_edges_from([(1,2), (1,3)])"
   ]
  },
  {
   "cell_type": "markdown",
   "metadata": {},
   "source": [
    "Edge를 추가 할때는 2-tuple 혹은 3-tuple 입니다.  \n",
    "가능한 3번째 argument는 dictionary 형태로, 해당 edge의 attribute를 추가하는 것입니다.  \n",
    "(예시: (2,3, {'weight':3.14})"
   ]
  },
  {
   "cell_type": "code",
   "execution_count": 5,
   "metadata": {},
   "outputs": [],
   "source": [
    "G.add_edges_from(H.edges())"
   ]
  },
  {
   "cell_type": "markdown",
   "metadata": {},
   "source": [
    "이외에도, `Graph.remove_node(), Graph.remove_nodes_from(), Graph.remove_edge(), Graph.remove_edges_from()` 등의 기능들이 있습니다.  \n",
    "예를 들어, "
   ]
  },
  {
   "cell_type": "code",
   "execution_count": 6,
   "metadata": {},
   "outputs": [],
   "source": [
    "G.remove_node(H) #H 그래프 노드 삭제"
   ]
  },
  {
   "cell_type": "code",
   "execution_count": 7,
   "metadata": {},
   "outputs": [],
   "source": [
    "# Removing all nodes and edges\n",
    "G.clear()"
   ]
  },
  {
   "cell_type": "code",
   "execution_count": 8,
   "metadata": {},
   "outputs": [],
   "source": [
    "#Reconstruction of Graph G\n",
    "\n",
    "G.add_edges_from([(1,2),(1,3)]) #if there is no nodes, add them\n",
    "G.add_node(1)\n",
    "G.add_edge(1,2)\n",
    "G.add_node(\"spam\")       # adds node \"spam\"\n",
    "G.add_nodes_from(\"spam\") # adds 4 nodes: 's', 'p', 'a', 'm'"
   ]
  },
  {
   "cell_type": "code",
   "execution_count": 11,
   "metadata": {},
   "outputs": [
    {
     "name": "stdout",
     "output_type": "stream",
     "text": [
      "8\n",
      "[1, 2, 3, 'spam', 's', 'p', 'a', 'm']\n"
     ]
    }
   ],
   "source": [
    "print(G.number_of_nodes())\n",
    "print(G.nodes())"
   ]
  },
  {
   "cell_type": "code",
   "execution_count": 12,
   "metadata": {},
   "outputs": [
    {
     "name": "stdout",
     "output_type": "stream",
     "text": [
      "2\n",
      "[(1, 2), (1, 3)]\n"
     ]
    }
   ],
   "source": [
    "print(G.number_of_edges()) # Q: 2? or 3?\n",
    "print(G.edges())"
   ]
  },
  {
   "cell_type": "code",
   "execution_count": 16,
   "metadata": {},
   "outputs": [
    {
     "name": "stdout",
     "output_type": "stream",
     "text": [
      "<dict_keyiterator object at 0x7f75c8c0dd68>\n",
      "[2, 3]\n"
     ]
    }
   ],
   "source": [
    "print(G.neighbors(1)) #return the neighbors of node 1\n",
    "#Graph.neighbor 함수는 iterator를 리턴합니다.\n",
    "print(list(G.neighbors(1)))"
   ]
  },
  {
   "cell_type": "code",
   "execution_count": 18,
   "metadata": {},
   "outputs": [
    {
     "name": "stdout",
     "output_type": "stream",
     "text": [
      "[1, 2, 3, 'spam']\n",
      "[(1, 2)]\n"
     ]
    }
   ],
   "source": [
    "#Removing nodes or edges\n",
    "G.remove_nodes_from(\"spam\") # remove s, p, a, m\n",
    "print(G.nodes())\n",
    "\n",
    "G.remove_edge(1,3)\n",
    "print(G.edges())"
   ]
  },
  {
   "cell_type": "markdown",
   "metadata": {},
   "source": [
    "# Accessing Edges"
   ]
  },
  {
   "cell_type": "code",
   "execution_count": 19,
   "metadata": {},
   "outputs": [
    {
     "data": {
      "text/plain": [
       "AtlasView({2: {}})"
      ]
     },
     "execution_count": 19,
     "metadata": {},
     "output_type": "execute_result"
    }
   ],
   "source": [
    "G[1]"
   ]
  },
  {
   "cell_type": "markdown",
   "metadata": {},
   "source": [
    "#### *Warning* 위의 방식으로 데이터에 접근하여, 직접 구조를 확인할 수 있지만... 위의 방식의 결과를 직접 manipulating 하는 것은 데이터의 inconsistency가 높아질 수 있으므로 금지!  \n",
    "예를 들어, G[1] = 2 이런 식으로 사용하지 마세요 !"
   ]
  },
  {
   "cell_type": "code",
   "execution_count": 20,
   "metadata": {},
   "outputs": [
    {
     "data": {
      "text/plain": [
       "{}"
      ]
     },
     "execution_count": 20,
     "metadata": {},
     "output_type": "execute_result"
    }
   ],
   "source": [
    "G[1][2]"
   ]
  },
  {
   "cell_type": "code",
   "execution_count": 21,
   "metadata": {},
   "outputs": [
    {
     "data": {
      "text/plain": [
       "AtlasView({1: {}})"
      ]
     },
     "execution_count": 21,
     "metadata": {},
     "output_type": "execute_result"
    }
   ],
   "source": [
    "G[2]"
   ]
  },
  {
   "cell_type": "code",
   "execution_count": 22,
   "metadata": {},
   "outputs": [
    {
     "name": "stdout",
     "output_type": "stream",
     "text": [
      "[(1, 2), (1, 3)]\n",
      "{2: {}, 3: {}}\n"
     ]
    }
   ],
   "source": [
    "G.add_edge(1,3)\n",
    "print(G.edges())\n",
    "print(G[1])"
   ]
  },
  {
   "cell_type": "code",
   "execution_count": 23,
   "metadata": {},
   "outputs": [],
   "source": [
    "# we can set the color of edge\n",
    "G[1][3]['color'] = 'blue'"
   ]
  },
  {
   "cell_type": "markdown",
   "metadata": {},
   "source": [
    "주로 사용하는 edge의 attribute는 `weight` 입니다."
   ]
  },
  {
   "cell_type": "code",
   "execution_count": 47,
   "metadata": {},
   "outputs": [
    {
     "name": "stdout",
     "output_type": "stream",
     "text": [
      "(1, 2, 0.125)\n",
      "(2, 1, 0.125)\n",
      "(3, 4, 0.375)\n",
      "(4, 3, 0.375)\n"
     ]
    }
   ],
   "source": [
    "FG = nx.Graph()\n",
    "FG.add_weighted_edges_from([(1,2,0.125),(1,3,0.75),(2,4,1.2),(3,4,0.375)])\n",
    "for n, nbrs in FG.adjacency():\n",
    "    for nbr, eattr in nbrs.items():\n",
    "        data=eattr['weight']\n",
    "        if data < 0.5: #print the edges, whose weight < 0.5\n",
    "            print('(%d, %d, %.3f)' %(n, nbr, data))"
   ]
  },
  {
   "cell_type": "markdown",
   "metadata": {},
   "source": [
    "**Warning**  \n",
    "networkx 2.0 이하의 버전에서는 adjacency_iter, nodes_iter 등의 모듈이 있었지만,  \n",
    "이후 버전에서는 adjacency, nodes 등의 모듈로 통합되었습니다."
   ]
  },
  {
   "cell_type": "markdown",
   "metadata": {},
   "source": [
    "# Adding attributes to graphs, nodes, and edges\n",
    "weights, labels, colors, 또는 Python object 등과 같은 attribute 등을 grpahs, nodes, edges 등에 추가할 수 있습니다.  \n",
    "\n",
    "각각의 graph, node, and edge는 key/value attribute pair를 가지고 있으며 (key는 당연히, hashable해야합니다.)  \n",
    "기본적으로 default는 empty 상태입니다.  \n",
    "\n",
    "하지만, attribute는 add_edge, add_node, 또는 직접 접근하는 방법으로 추가하거나 변경할 수 있습니다."
   ]
  },
  {
   "cell_type": "markdown",
   "metadata": {},
   "source": [
    "## Graph Attributes"
   ]
  },
  {
   "cell_type": "code",
   "execution_count": 48,
   "metadata": {},
   "outputs": [
    {
     "data": {
      "text/plain": [
       "{'day': 'Friday'}"
      ]
     },
     "execution_count": 48,
     "metadata": {},
     "output_type": "execute_result"
    }
   ],
   "source": [
    "G = nx.Graph(day='Friday')\n",
    "G.graph"
   ]
  },
  {
   "cell_type": "code",
   "execution_count": 49,
   "metadata": {},
   "outputs": [
    {
     "data": {
      "text/plain": [
       "{'day': 'Monday'}"
      ]
     },
     "execution_count": 49,
     "metadata": {},
     "output_type": "execute_result"
    }
   ],
   "source": [
    "G.graph['day'] = 'Monday'\n",
    "G.graph"
   ]
  },
  {
   "cell_type": "markdown",
   "metadata": {},
   "source": [
    "## Node Attributes"
   ]
  },
  {
   "cell_type": "code",
   "execution_count": 50,
   "metadata": {},
   "outputs": [
    {
     "name": "stdout",
     "output_type": "stream",
     "text": [
      "{'time': '5pm'}\n"
     ]
    },
    {
     "data": {
      "text/plain": [
       "NodeDataView({1: {'time': '5pm', 'room': 714}, 3: {'time': '2pm'}})"
      ]
     },
     "execution_count": 50,
     "metadata": {},
     "output_type": "execute_result"
    }
   ],
   "source": [
    "G.add_node(1, time='5pm')\n",
    "G.add_nodes_from([3], time='2pm')\n",
    "print(G.node[1])\n",
    "\n",
    "G.node[1]['room'] = 714\n",
    "G.nodes(data=True)"
   ]
  },
  {
   "cell_type": "markdown",
   "metadata": {},
   "source": [
    "## Edge Attributes"
   ]
  },
  {
   "cell_type": "code",
   "execution_count": 51,
   "metadata": {},
   "outputs": [],
   "source": [
    "G.add_edge(1,2, weight=4.7)\n",
    "G.add_edges_from([(3,4),(4,5)], color='red')\n",
    "\n",
    "G.add_edges_from([(1,2,{'color':'blue'}), (2,3,{'weight':8})]) #(1,2) edge는 이미 추가되어 있는데, 이 위에 color를 추가하는 상황이 됩니다."
   ]
  },
  {
   "cell_type": "code",
   "execution_count": 55,
   "metadata": {},
   "outputs": [
    {
     "data": {
      "text/plain": [
       "EdgeDataView([(1, 2, {'weight': 4.7, 'color': 'blue'}), (3, 4, {'color': 'red'}), (3, 2, {'weight': 8}), (4, 5, {'color': 'red'})])"
      ]
     },
     "execution_count": 55,
     "metadata": {},
     "output_type": "execute_result"
    }
   ],
   "source": [
    "G.edges(data=True)"
   ]
  },
  {
   "cell_type": "code",
   "execution_count": 65,
   "metadata": {},
   "outputs": [
    {
     "name": "stdout",
     "output_type": "stream",
     "text": [
      "{'weight': 4.7, 'color': 'blue'}\n",
      "{'color': 'red', 'weight': 4.2}\n"
     ]
    }
   ],
   "source": [
    "print(G.edges[1, 2])\n",
    "G.edges[3,4]['weight']=4.2 #기존 [3,4] edge에 weight 추가 !\n",
    "print(G.edges[3, 4])"
   ]
  },
  {
   "cell_type": "markdown",
   "metadata": {},
   "source": [
    "# Directed Graphs\n",
    "Directed Graph를 생성하기 위해서는 `DiGraph` 클래스를 사용하면 됩니다.  \n",
    "Directed Graph는 in, out 등의 방향성이 존재하기 때문에 `DiGraph.out_edges()`, `DiGraph.in_edges()`, `DiGraph.predecessors()`, `DiGraph.successors()` 등의 메쏘드을 사용합니다.  \n",
    "(directed graph에서의 neighbor는 successors라고 생각하시면 됩니다. degree의 겨웅에도 `in_degree`, `out_degree`로 나누어 생각해야 합니다.)\n"
   ]
  },
  {
   "cell_type": "code",
   "execution_count": 70,
   "metadata": {},
   "outputs": [
    {
     "name": "stdout",
     "output_type": "stream",
     "text": [
      "Out_Degree of Node 1:\t 0.5\n",
      "In_Degree of Node 1:\t 0.75\n",
      "[2]\n",
      "[2]\n"
     ]
    }
   ],
   "source": [
    "DG = nx.DiGraph() #create directed graph\n",
    "DG.add_weighted_edges_from([(1,2,0.5), (3,1, 0.75)]) #Constructe nodes and edges with weights\n",
    "\n",
    "print(\"Out_Degree of Node 1:\\t\", DG.out_degree(1, weight='weight')) #print out degree of node 1\n",
    "print(\"In_Degree of Node 1:\\t\", DG.in_degree(1, weight='weight')) #print in degree of node 1\n",
    "print(list(DG.successors(1))) #print successors of node 1\n",
    "print(list(DG.neighbors(1))) #print neighbors of node 1"
   ]
  },
  {
   "cell_type": "markdown",
   "metadata": {},
   "source": [
    "Directed Graph를 Undirected Graph로 변경하고 싶을 때는  \n",
    "`Graph.to_undirected()` 메쏘드 또는 `nx.Graph()`로 wrapping 해주시면 됩니다."
   ]
  },
  {
   "cell_type": "code",
   "execution_count": 79,
   "metadata": {},
   "outputs": [],
   "source": [
    "# UDG1 = DG.to_undirected()\n",
    "# UDG2 = nx.Graph(DG)"
   ]
  },
  {
   "cell_type": "markdown",
   "metadata": {},
   "source": [
    "# Multigrpahs\n",
    "\n",
    "NetworkX는 multiple edges를 가지는 그래프를 생성하도록 클래스를 지원하고 있습니다.  \n",
    "Multigraph를 생성하기 위해서는 `MultiGraph` 와 `MultiDiGraph` 클래스를 사용하면 됩니다.  "
   ]
  },
  {
   "cell_type": "code",
   "execution_count": 80,
   "metadata": {},
   "outputs": [
    {
     "name": "stdout",
     "output_type": "stream",
     "text": [
      "{1: 1.25, 2: 1.75, 3: 0.5}\n"
     ]
    }
   ],
   "source": [
    "MG = nx.MultiGraph() #create multi(undirected)graph\n",
    "MG.add_weighted_edges_from([(1, 2, 0.5), (1, 2, 0.75), (2, 3, 0.5)]) #multi edges between node1 and node2\n",
    "\n",
    "print(dict(MG.degree(weight='weight')))\n",
    "#The degree of node 1 is (0.5+0.75)= 1.25\n",
    "#The degree of node 2 is (0.5+0.75+0.5)=1.75"
   ]
  },
  {
   "cell_type": "code",
   "execution_count": 92,
   "metadata": {},
   "outputs": [
    {
     "name": "stdout",
     "output_type": "stream",
     "text": [
      "Edge between  1 2 ,\t multi edges:\t {0: {'weight': 0.5}, 1: {'weight': 0.75}}\n",
      "Edge between  2 1 ,\t multi edges:\t {0: {'weight': 0.5}, 1: {'weight': 0.75}}\n",
      "Edge between  2 3 ,\t multi edges:\t {0: {'weight': 0.5}}\n",
      "Edge between  3 2 ,\t multi edges:\t {0: {'weight': 0.5}}\n"
     ]
    }
   ],
   "source": [
    "#Construct normal undirected graph, which edge has minimum weight in MG\n",
    "GG = nx.Graph()\n",
    "for n, nbrs in MG.adjacency():\n",
    "    for nbr, edict in nbrs.items():\n",
    "        print('Edge between ', n, nbr, ',\\t multi edges:\\t', edict) #multi edges are dictionary type\n",
    "        min_value = min([d['weight'] for d in edict.values()])\n",
    "        GG.add_edge(n, nbr, weight=min_value)\n",
    "        \n",
    "assert nx.shortest_path(GG, 1, 3) == [1,2,3]"
   ]
  },
  {
   "cell_type": "markdown",
   "metadata": {},
   "source": [
    "# Graph generators and graph operations\n",
    "\n",
    "이외에도, graph를 만들 수 있는 다양한 함수들과 operation 들이 포함되어 있습니다."
   ]
  },
  {
   "cell_type": "markdown",
   "metadata": {},
   "source": [
    "### 1. Classic graph operations\n",
    "\n",
    "```\n",
    "subgraph(G, nbunch)      - induced subgraph view of G on nodes in nbunch\n",
    "union(G1,G2)             - graph union\n",
    "disjoint_union(G1,G2)    - graph union assuming all nodes are different\n",
    "cartesian_product(G1,G2) - return Cartesian product graph\n",
    "compose(G1,G2)           - combine graphs identifying nodes common to both\n",
    "complement(G)            - graph complement\n",
    "create_empty_copy(G)     - return an empty copy of the same graph class\n",
    "to_undirected(G) - return an undirected representation of G\n",
    "to_directed(G)   - return a directed representation of G\n",
    "```\n",
    "\n",
    "### 2. Classic small graphs\n",
    "```\n",
    ">>> petersen = nx.petersen_graph()\n",
    ">>> tutte = nx.tutte_graph()\n",
    ">>> maze = nx.sedgewick_maze_graph()\n",
    ">>> tet = nx.tetrahedral_graph()\n",
    "```\n",
    "\n",
    "### 3. Constructive generator for a classic graph (with their own parameters)\n",
    "```\n",
    ">>> K_5 = nx.complete_graph(5)\n",
    ">>> K_3_5 = nx.complete_bipartite_graph(3, 5)\n",
    ">>> barbell = nx.barbell_graph(10, 10)\n",
    ">>> lollipop = nx.lollipop_graph(10, 20)\n",
    "```\n",
    "\n",
    "### 4. Stochastic Graph Generator (with their own parameters)\n",
    "```\n",
    ">>> er = nx.erdos_renyi_graph(100, 0.15)\n",
    ">>> ws = nx.watts_strogatz_graph(30, 3, 0.1)\n",
    ">>> ba = nx.barabasi_albert_graph(100, 5)\n",
    ">>> red = nx.random_lobster(100, 0.9, 0.9)\n",
    "````\n",
    "\n",
    "### 5. Reading graph stord in a file\n",
    "```\n",
    ">>> nx.write_gml(red, \"path.to.file\")\n",
    ">>> mygraph = nx.read_gml(\"path.to.file\")\n",
    "```\n",
    "\n",
    "5 (파일에서 graph를 읽는 경우), Adjacency list, multiline adjacency list, edge list, GEXF, GML, Pickle, GraphML, JSON, LEDA< YAML, SparseGraph6, Pajek, GIS Shapefile 등 매우 다양한 형태의 파일을 지원합니다. [참조](https://networkx.github.io/documentation/latest/reference/readwrite/index.html)"
   ]
  },
  {
   "cell_type": "markdown",
   "metadata": {},
   "source": [
    "# Analyzing graphs\n",
    "NetworkX에서는 그래프를 분석할 수 있는 다야한 기능을 제공합니다."
   ]
  },
  {
   "cell_type": "code",
   "execution_count": 95,
   "metadata": {},
   "outputs": [
    {
     "name": "stdout",
     "output_type": "stream",
     "text": [
      "Connected Groups:\t [{1, 2, 3}, {'spam'}]\n",
      "Sorted Degree List:\t [0, 1, 1, 2]\n",
      "Clustering of G:\t {1: 0, 2: 0, 3: 0, 'spam': 0}\n"
     ]
    }
   ],
   "source": [
    "G = nx.Graph()\n",
    "G.add_edges_from([(1, 2), (1, 3)])\n",
    "G.add_node(\"spam\")\n",
    "\n",
    "print('Connected Groups:\\t', list(nx.connected_components(G))) #connected group\n",
    "\n",
    "print('Sorted Degree List:\\t', sorted(d for n, d in G.degree())) #sorted degree of node\n",
    "print('Clustering of G:\\t', nx.clustering(G))"
   ]
  },
  {
   "cell_type": "markdown",
   "metadata": {},
   "source": [
    "### Other algorithm\n",
    "일부 함수들은 여러 결과를 포함한 iterator를 반환하기도 합니다.  \n",
    "이 경우, dictionary 자료형으로 변환하면, 편하게 사용할 수 있습니다.  \n",
    "아래는 각 노드에서 시작하여, 도달가능한 다른 노드까지의 shortest_path (node 기준) 를 반환하는 함수의 예시입니다.  \n",
    "각각의 시작 노드를 key로, 도달 노드와 경로의 (destination node, path) dictionary를 value로 갖는, dictionary를 리턴합니다.  \n",
    "\n",
    "사용할 수 있는 다양한 알고리즘의 목록은 [링크](https://networkx.github.io/documentation/latest/reference/algorithms/index.html)를 참조하세요."
   ]
  },
  {
   "cell_type": "code",
   "execution_count": 98,
   "metadata": {},
   "outputs": [
    {
     "data": {
      "text/plain": [
       "{3: [3], 1: [3, 1], 2: [3, 1, 2]}"
      ]
     },
     "execution_count": 98,
     "metadata": {},
     "output_type": "execute_result"
    }
   ],
   "source": [
    "sp = dict(nx.all_pairs_shortest_path(G))\n",
    "sp[3]"
   ]
  },
  {
   "cell_type": "markdown",
   "metadata": {},
   "source": [
    "# Drawing Graphs\n",
    "NetworkX 자체는 주요 graph drawing package가 아니지만, matplotlib와 함께 사용할 경우 쉽게 그래프를 그릴 수 있습니다.  "
   ]
  },
  {
   "cell_type": "code",
   "execution_count": 99,
   "metadata": {},
   "outputs": [],
   "source": [
    "import matplotlib.pyplot as plt\n",
    "%matplotlib inline"
   ]
  },
  {
   "cell_type": "code",
   "execution_count": 102,
   "metadata": {},
   "outputs": [
    {
     "name": "stderr",
     "output_type": "stream",
     "text": [
      "/opt/conda/envs/pytorch-py3.6/lib/python3.6/site-packages/networkx/drawing/nx_pylab.py:579: MatplotlibDeprecationWarning: \n",
      "The iterable function was deprecated in Matplotlib 3.1 and will be removed in 3.3. Use np.iterable instead.\n",
      "  if not cb.iterable(width):\n"
     ]
    },
    {
     "data": {
      "image/png": "[encoded data removed]",
      "text/plain": [
       "<Figure size 432x288 with 2 Axes>"
      ]
     },
     "metadata": {},
     "output_type": "display_data"
    }
   ],
   "source": [
    "G = nx.petersen_graph() # A sample classical small graph\n",
    "\n",
    "plt.subplot(121)\n",
    "nx.draw(G, with_labels=True, font_weights='bold')\n",
    "\n",
    "plt.subplot(122)\n",
    "nx.draw_shell(G, nlist=[range(5, 10), range(5)], with_labels=True, font_weight='bold')"
   ]
  },
  {
   "cell_type": "code",
   "execution_count": 111,
   "metadata": {},
   "outputs": [
    {
     "name": "stderr",
     "output_type": "stream",
     "text": [
      "/opt/conda/envs/pytorch-py3.6/lib/python3.6/site-packages/networkx/drawing/nx_pylab.py:579: MatplotlibDeprecationWarning: \n",
      "The iterable function was deprecated in Matplotlib 3.1 and will be removed in 3.3. Use np.iterable instead.\n",
      "  if not cb.iterable(width):\n"
     ]
    },
    {
     "data": {
      "image/png": "[encoded data removed]",
      "text/plain": [
       "<Figure size 432x288 with 4 Axes>"
      ]
     },
     "metadata": {},
     "output_type": "display_data"
    }
   ],
   "source": [
    "options = {\n",
    "    'node_color': 'pink',\n",
    "    'node_size': 50,\n",
    "    'width': 1,\n",
    "    'with_labels': True,\n",
    "}\n",
    "plt.subplot(221)\n",
    "\n",
    "nx.draw_random(G, **options)\n",
    "plt.subplot(222)\n",
    "\n",
    "nx.draw_circular(G, **options)\n",
    "plt.subplot(223)\n",
    "\n",
    "nx.draw_spectral(G, **options)\n",
    "plt.subplot(224)\n",
    "\n",
    "nx.draw_shell(G, nlist=[range(5,10), range(5)], **options)"
   ]
  },
  {
   "cell_type": "markdown",
   "metadata": {},
   "source": [
    "위의 다양한 그림처럼, 원하는 구조에 따라 적절한 draw 함수를 선택하여 사용하면 됩니다."
   ]
  }
 ],
 "metadata": {
  "kernelspec": {
   "display_name": "Python 3",
   "language": "python",
   "name": "python3"
  },
  "language_info": {
   "codemirror_mode": {
    "name": "ipython",
    "version": 3
   },
   "file_extension": ".py",
   "mimetype": "text/x-python",
   "name": "python",
   "nbconvert_exporter": "python",
   "pygments_lexer": "ipython3",
   "version": "3.6.6"
  }
 },
 "nbformat": 4,
 "nbformat_minor": 4
}
